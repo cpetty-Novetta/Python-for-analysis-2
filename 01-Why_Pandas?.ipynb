{
 "cells": [
  {
   "cell_type": "markdown",
   "metadata": {},
   "source": [
    "This notebook is to answer the question:\n",
    "\n",
    "> What's the point of learning the Pandas package?\n",
    "\n",
    "It's also necessary for the remaining parts of this course.  Many other packages that do specific data analysis things integrate pandas data structures directly into them, making it easy to create a seamless workflow to get from raw data to insight. "
   ]
  },
  {
   "cell_type": "markdown",
   "metadata": {},
   "source": [
    "### First off, what is Pandas in the first place?\n",
    "\n",
    "Pandas ([website](pandas.python.org)) is an open-sourced library that provides \"high-performance, easy-to-use data structures and data analysis tools for the Python programming language.\"  That is, it makes doing data analysis easier by packaging a lot of the grunt work and function creation involved in doing typical data analysis, obviating your need to do it yourself.\n",
    "\n",
    "And they do a hell of a job.\n",
    "\n",
    "In short, let's review the areas you'll save time by using Pandas to analyze data."
   ]
  },
  {
   "cell_type": "markdown",
   "metadata": {},
   "source": [
    "- Structure\n",
    "- File I/O\n",
    "- Missing data\n",
    "- Exploratory analysis\n",
    "- Built-ins\n",
    "- Querying\n",
    "- Efficiency\n",
    "- Strong documentation"
   ]
  },
  {
   "cell_type": "markdown",
   "metadata": {},
   "source": [
    "## How today will go\n",
    "\n",
    "1. Introduction (this notebook)\n",
    "2. Series \n",
    "    - Series are the one dimensional arrays that pandas uses.  Here we'll learn what they are, how to make them, and how to manipulate them. \n",
    "3. DataFrames\n",
    "    - The multidimensional data structure.  This is the bread and butter of pandas.  Think a bunch of Series, which makes an SQL-like table.  This part will explain what they are, how to make them from various data sources, as well as other built-in functions that provide major convenience.\n",
    "4. Manipulation\n",
    "    - How to add and delete columns to a Dataframe.  How to Merge, join, and concatenate DataFrames together.  \n",
    "5. Querying\n",
    "    - How to get the actual information you want.\n",
    "6. Simple Visualization\n",
    "    - You have the answer you want in raw data form, how to quickly visualize it?"
   ]
  },
  {
   "cell_type": "markdown",
   "metadata": {},
   "source": [
    "## Let's get started!"
   ]
  },
  {
   "cell_type": "markdown",
   "metadata": {
    "collapsed": true
   },
   "source": [
    "Let's start with the tl;dr of the class. \n",
    "\n",
    "[Here](https://github.com/pandas-dev/pandas/blob/master/doc/cheatsheet/Pandas_Cheat_Sheet.pdf) is a cheat sheet that summarizes the vast majority of the things we'll talk about in this course.  Ok, you're done, you're an expert now.  Let's move on.\n",
    "\n",
    "Just kidding.  Now we spend the next couple of hours doing examples of these things and other interesting things you can do with Pandas."
   ]
  },
  {
   "cell_type": "code",
   "execution_count": null,
   "metadata": {
    "collapsed": true
   },
   "outputs": [],
   "source": []
  }
 ],
 "metadata": {
  "kernelspec": {
   "display_name": "Python 3",
   "language": "python",
   "name": "python3"
  },
  "language_info": {
   "codemirror_mode": {
    "name": "ipython",
    "version": 3
   },
   "file_extension": ".py",
   "mimetype": "text/x-python",
   "name": "python",
   "nbconvert_exporter": "python",
   "pygments_lexer": "ipython3",
   "version": "3.6.0"
  },
  "latex_envs": {
   "bibliofile": "biblio.bib",
   "cite_by": "apalike",
   "current_citInitial": 1,
   "eqLabelWithNumbers": true,
   "eqNumInitial": 0
  },
  "toc": {
   "nav_menu": {
    "height": "81px",
    "width": "252px"
   },
   "navigate_menu": true,
   "number_sections": true,
   "sideBar": true,
   "threshold": 4,
   "toc_cell": false,
   "toc_section_display": "block",
   "toc_window_display": false
  }
 },
 "nbformat": 4,
 "nbformat_minor": 2
}
